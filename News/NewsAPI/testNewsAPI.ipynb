{
 "cells": [
  {
   "cell_type": "code",
   "execution_count": 1,
   "id": "70a161d8",
   "metadata": {},
   "outputs": [
    {
     "name": "stdout",
     "output_type": "stream",
     "text": [
      "Search period: 2025-05-22 to 2025-05-24\n",
      "Total results: 53\n",
      "First article title: Oppo says its apps on the Reno 14 series will see full Gemini integration\n"
     ]
    }
   ],
   "source": [
    "from dotenv import load_dotenv\n",
    "import os\n",
    "from newsapi import NewsApiClient\n",
    "from datetime import datetime, timedelta, timezone\n",
    "\n",
    "# Load environment variables\n",
    "load_dotenv()\n",
    "\n",
    "# Access the API key\n",
    "api_key = os.getenv('NEWS_API_KEY')\n",
    "\n",
    "# Initialize NewsApiClient\n",
    "newsapi = NewsApiClient(api_key=api_key)\n",
    "\n",
    "# Use timezone-aware UTC datetime objects as recommended\n",
    "to_date = datetime.now(timezone.utc)\n",
    "from_date = to_date - timedelta(days=2)\n",
    "from_str = from_date.strftime('%Y-%m-%d')\n",
    "to_str = to_date.strftime('%Y-%m-%d')\n",
    "\n",
    "all_articles = newsapi.get_everything(\n",
    "    q='Generative AI software development',\n",
    "    from_param=from_str,\n",
    "    to=to_str,\n",
    "    language='en',\n",
    "    sort_by='relevancy',\n",
    "    page=1\n",
    ")\n",
    "\n",
    "# Print some results to verify\n",
    "print(f\"Search period: {from_str} to {to_str}\")\n",
    "print(f\"Total results: {all_articles.get('totalResults', 0)}\")\n",
    "if all_articles.get('articles'):\n",
    "    print(f\"First article title: {all_articles['articles'][0]['title'] if all_articles['articles'] else 'No articles found'}\")"
   ]
  },
  {
   "cell_type": "code",
   "execution_count": null,
   "id": "36b7ad42",
   "metadata": {},
   "outputs": [],
   "source": []
  }
 ],
 "metadata": {
  "kernelspec": {
   "display_name": "Python 3",
   "language": "python",
   "name": "python3"
  },
  "language_info": {
   "codemirror_mode": {
    "name": "ipython",
    "version": 3
   },
   "file_extension": ".py",
   "mimetype": "text/x-python",
   "name": "python",
   "nbconvert_exporter": "python",
   "pygments_lexer": "ipython3",
   "version": "3.12.9"
  }
 },
 "nbformat": 4,
 "nbformat_minor": 5
}
